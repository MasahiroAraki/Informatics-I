{
  "nbformat": 4,
  "nbformat_minor": 0,
  "metadata": {
    "colab": {
      "name": "info_I_2.ipynb",
      "provenance": [],
      "collapsed_sections": []
    },
    "kernelspec": {
      "name": "python3",
      "display_name": "Python 3"
    },
    "language_info": {
      "name": "python"
    }
  },
  "cells": [
    {
      "cell_type": "markdown",
      "source": [
        "<a href=\"https://colab.research.google.com/github/MasahiroAraki/Informatics-I/blob/master/Python/info_I_2.ipynb\" target=\"_parent\"><img src=\"https://colab.research.google.com/assets/colab-badge.svg\" alt=\"Open In Colab\"/></a>"
      ],
      "metadata": {
        "id": "VuBaovD0x2Td"
      }
    },
    {
      "cell_type": "markdown",
      "metadata": {
        "id": "k0BkaiN1D9jR"
      },
      "source": [
        "# 学習14 応用的プログラム"
      ]
    },
    {
      "cell_type": "markdown",
      "metadata": {
        "id": "nz3dFxwbEpVm"
      },
      "source": [
        "## リスト\n",
        "\n",
        "*  リストとは  \n",
        "  * 複数の値を一つの名前（変数名）と通し番号（添字）によって管理する仕組み  \n",
        "  * 例： a=[56,3,62,17,87]　　　a[0]:56, a[1]:3,...\n",
        "  * リストの中にあるひとつひとつの値を要素という\n",
        "  * 要素に付けられた0から始まる番号を添字という\n"
      ]
    },
    {
      "cell_type": "markdown",
      "source": [
        "図表2  リスト内の特定の要素を取り出す"
      ],
      "metadata": {
        "id": "4LskX7XTmS52"
      }
    },
    {
      "cell_type": "code",
      "metadata": {
        "colab": {
          "base_uri": "https://localhost:8080/"
        },
        "id": "VqmssjJED-LP",
        "outputId": "8aa419ee-bc62-4359-e2d0-7f4dfaf4c0ac"
      },
      "source": [
        "a = [56,3,62,17,87,22,36,83,21,12] # リストa の定義\n",
        "goukei = 0\n",
        "goukei = a[3] + a[7]\n",
        "print(goukei)"
      ],
      "execution_count": 22,
      "outputs": [
        {
          "output_type": "stream",
          "name": "stdout",
          "text": [
            "100\n"
          ]
        }
      ]
    },
    {
      "cell_type": "markdown",
      "metadata": {
        "id": "YkNF-_NID-Qy"
      },
      "source": [
        "図表3  リスト内のすべての要素に対する処理"
      ]
    },
    {
      "cell_type": "code",
      "source": [
        "a = [56,3,62,17,87,22,36,83,21,12] \n",
        "goukei = 0\n",
        "for i in range(0,10,1):\n",
        "  goukei = goukei + a[i]\n",
        "print(goukei)"
      ],
      "metadata": {
        "colab": {
          "base_uri": "https://localhost:8080/"
        },
        "id": "3RJePQjlMwlO",
        "outputId": "f82cbf73-62ed-46f9-88c6-b6672c68f6a3"
      },
      "execution_count": 23,
      "outputs": [
        {
          "output_type": "stream",
          "name": "stdout",
          "text": [
            "399\n"
          ]
        }
      ]
    },
    {
      "cell_type": "markdown",
      "source": [
        "こちらの方がPythonらしい書き方"
      ],
      "metadata": {
        "id": "a72m-67kMw7n"
      }
    },
    {
      "cell_type": "code",
      "metadata": {
        "colab": {
          "base_uri": "https://localhost:8080/"
        },
        "id": "nTdQD4o8D-Z9",
        "outputId": "825fda92-46e2-4ae2-ae39-d08c3c329988"
      },
      "source": [
        "a  =[56,3,62,17,87,22,36,83,21,12] \n",
        "goukei = 0\n",
        "for i in a:\n",
        "  goukei += i\n",
        "print(goukei)"
      ],
      "execution_count": 24,
      "outputs": [
        {
          "output_type": "stream",
          "name": "stdout",
          "text": [
            "399\n"
          ]
        }
      ]
    },
    {
      "cell_type": "markdown",
      "source": [
        "やりたいことをそのまま表したコード\n",
        "\n",
        "参考：[Pythonの組み込み関数](https://docs.python.org/ja/3/library/functions.html)"
      ],
      "metadata": {
        "id": "8kT9_TiLN-BP"
      }
    },
    {
      "cell_type": "code",
      "source": [
        "a  =[56,3,62,17,87,22,36,83,21,12] \n",
        "print(sum(a))"
      ],
      "metadata": {
        "colab": {
          "base_uri": "https://localhost:8080/"
        },
        "id": "v4O5nrW0N-MX",
        "outputId": "f7356825-83fb-4d8c-d366-b05ab1b39f2b"
      },
      "execution_count": 25,
      "outputs": [
        {
          "output_type": "stream",
          "name": "stdout",
          "text": [
            "399\n"
          ]
        }
      ]
    },
    {
      "cell_type": "markdown",
      "source": [
        "補足： 辞書型のデータ構造\n",
        "\n",
        "\n",
        "* 辞書とは  \n",
        "複数の値を一つの名前（変数名）と文字列（キー）によって管理する仕組み  \n",
        "例: age = {'松賀':18, '北山':24}　　　age['松賀']:18, age['北山']:24\n",
        "* 辞書を使う理由\n",
        "  * 複数の値をリストのような順序ではなく、値の意味を表すキーと対応づけて管理したい  \n",
        "  * 特定のキーと対応づけられた値を高速に検索したい  \n",
        "例：数万人のデータがあるときに、キー「'松賀'」の年齢を検索\n"
      ],
      "metadata": {
        "id": "lWKDs5wR4zir"
      }
    },
    {
      "cell_type": "code",
      "metadata": {
        "id": "9_D7pRoRdlSH"
      },
      "source": [
        "c={'add1':'東京都', 'add2':'千代田区'}\n",
        "c['add3'] = '１－１'"
      ],
      "execution_count": 26,
      "outputs": []
    },
    {
      "cell_type": "code",
      "metadata": {
        "colab": {
          "base_uri": "https://localhost:8080/"
        },
        "id": "0AAD-nOLeJoe",
        "outputId": "316006c3-c05b-4fdb-a321-4bf1fc6bf6c8"
      },
      "source": [
        "c"
      ],
      "execution_count": 27,
      "outputs": [
        {
          "output_type": "execute_result",
          "data": {
            "text/plain": [
              "{'add1': '東京都', 'add2': '千代田区', 'add3': '１－１'}"
            ]
          },
          "metadata": {},
          "execution_count": 27
        }
      ]
    },
    {
      "cell_type": "code",
      "metadata": {
        "colab": {
          "base_uri": "https://localhost:8080/",
          "height": 36
        },
        "id": "cMdWVY-nd7qv",
        "outputId": "284f1fd4-2017-47b6-ce30-bd0e6782c893"
      },
      "source": [
        "c['add1']+c['add2']"
      ],
      "execution_count": 28,
      "outputs": [
        {
          "output_type": "execute_result",
          "data": {
            "application/vnd.google.colaboratory.intrinsic+json": {
              "type": "string"
            },
            "text/plain": [
              "'東京都千代田区'"
            ]
          },
          "metadata": {},
          "execution_count": 28
        }
      ]
    },
    {
      "cell_type": "markdown",
      "source": [
        "## 乱数\n",
        "\n",
        "* 乱数とは\n",
        "  * ある一定の範囲内において，すべての数が等確率で現れるような数\n",
        "  * コンピュータで生成する乱数は計算によって値を生成しているので、擬似乱数とよばれる\n",
        "  * 乱数を用いることで実行するたびに処理内容が変わるようなことが実現できるので、シミュレーションなどに応用できる\n"
      ],
      "metadata": {
        "id": "ZG3rAGml5LFf"
      }
    },
    {
      "cell_type": "markdown",
      "source": [
        "図表4 0から9までの乱数を発生させて数当てゲーム"
      ],
      "metadata": {
        "id": "C3U9xKeWm192"
      }
    },
    {
      "cell_type": "code",
      "source": [
        "import random #random モジュールを読み込む\n",
        "a = 5\n",
        "r = random.randrange(10) #0 ～ 9 までの整数をランダムに発生\n",
        "if a == r:\n",
        "  print(\" 当たり\")\n",
        "elif a > r:\n",
        "  print(\"a の方が大きい\")\n",
        "elif a < r:\n",
        "  print(\"a の方が小さい\")"
      ],
      "metadata": {
        "colab": {
          "base_uri": "https://localhost:8080/"
        },
        "id": "eBDZ5vki5LSr",
        "outputId": "26d5de65-1ecb-474d-94d2-94eba2ed88fc"
      },
      "execution_count": 29,
      "outputs": [
        {
          "output_type": "stream",
          "name": "stdout",
          "text": [
            "a の方が大きい\n"
          ]
        }
      ]
    },
    {
      "cell_type": "markdown",
      "source": [
        "図表5 0から9までの乱数を1から10までに変更するプログラム\n"
      ],
      "metadata": {
        "id": "JBpO0V6N5O3r"
      }
    },
    {
      "cell_type": "code",
      "source": [
        "import random\n",
        "r = random.randrange(10)+1\n",
        "print(r)"
      ],
      "metadata": {
        "colab": {
          "base_uri": "https://localhost:8080/"
        },
        "id": "ndrWYpIH5PAj",
        "outputId": "47ec3504-19c7-49e9-bc2e-72d3c308dbc2"
      },
      "execution_count": 30,
      "outputs": [
        {
          "output_type": "stream",
          "name": "stdout",
          "text": [
            "6\n"
          ]
        }
      ]
    },
    {
      "cell_type": "markdown",
      "metadata": {
        "id": "a2eVYRTUD-hl"
      },
      "source": [
        "## 関数\n",
        "\n",
        "* 関数とは\n",
        "  *  引数を受け取り、何らかの処理を行って、戻り値を返すもの\n",
        "  * 大規模なプログラムを開発する際に、機能毎に切り分けて小さな関数として開発を行う\n",
        "  * 作成した関数は何度でも呼び出すことができ、再利用が可能になる。\n",
        "\n"
      ]
    },
    {
      "cell_type": "markdown",
      "source": [
        "図表9  関数で分割したプログラムの例"
      ],
      "metadata": {
        "id": "XNWBkpGVnJ1W"
      }
    },
    {
      "cell_type": "code",
      "metadata": {
        "colab": {
          "base_uri": "https://localhost:8080/"
        },
        "id": "fl5_0ogeEyJn",
        "outputId": "cfb8918c-72e8-425c-c7a9-31428cf96867"
      },
      "source": [
        "def listgoukei(a): # 合計を求める関数listgoukei を作成\n",
        "  goukei = 0\n",
        "  for i in a:\n",
        "    goukei += i\n",
        "  return goukei\n",
        "\n",
        "a = [56,3,62,17,87,22,36,83,21,12]\n",
        "goukei = listgoukei(a) # 作った関数listgoukei を呼び出し\n",
        "print(goukei)"
      ],
      "execution_count": 31,
      "outputs": [
        {
          "output_type": "stream",
          "name": "stdout",
          "text": [
            "399\n"
          ]
        }
      ]
    },
    {
      "cell_type": "markdown",
      "metadata": {
        "id": "LRzQq-TfFcvN"
      },
      "source": [
        "## WebAPI\n",
        "\n",
        "* API (Application Programming Interface) とは\n",
        "  * 共通して使われる複雑な処理を関数に近い形でまとめて提供するもの\n",
        "* WebAPIとは\n",
        "  * インターネット上のサービスやビッグデータへのAPI \n",
        "  * Webの通信方式を利用したアクセス機能を提供している\n",
        "\n"
      ]
    },
    {
      "cell_type": "markdown",
      "source": [
        "図表11"
      ],
      "metadata": {
        "id": "y12HpdBunVYM"
      }
    },
    {
      "cell_type": "code",
      "metadata": {
        "colab": {
          "base_uri": "https://localhost:8080/"
        },
        "id": "vUXy9WoMFXMt",
        "outputId": "895f1567-cb24-4fe4-ff46-4b86f1d621fe"
      },
      "source": [
        "import requests\n",
        "import json\n",
        "url = 'https://zipcloud.ibsnet.co.jp/api/search' # 使用するWebAPI のURL\n",
        "param = {'zipcode': '606-8001'} #WebAPI の引数\n",
        "res = requests.get(url, params=param) #WebAPI の戻り値がres へ\n",
        "response = json.loads(res.text)\n",
        "address = response['results'][0]\n",
        "print(address['address1'] + address['address2'] + address['address3'])"
      ],
      "execution_count": 32,
      "outputs": [
        {
          "output_type": "stream",
          "name": "stdout",
          "text": [
            "京都府京都市左京区山端柳ケ坪町\n"
          ]
        }
      ]
    },
    {
      "cell_type": "code",
      "source": [
        "response"
      ],
      "metadata": {
        "colab": {
          "base_uri": "https://localhost:8080/"
        },
        "id": "dzQazBPaM6zQ",
        "outputId": "d331e1a7-8f5d-40aa-9652-e8bb16c3c8af"
      },
      "execution_count": 33,
      "outputs": [
        {
          "output_type": "execute_result",
          "data": {
            "text/plain": [
              "{'message': None,\n",
              " 'results': [{'address1': '京都府',\n",
              "   'address2': '京都市左京区',\n",
              "   'address3': '山端柳ケ坪町',\n",
              "   'kana1': 'ｷｮｳﾄﾌ',\n",
              "   'kana2': 'ｷｮｳﾄｼｻｷｮｳｸ',\n",
              "   'kana3': 'ﾔﾏﾊﾞﾅﾔﾅｶﾞﾂﾎﾞﾁｮｳ',\n",
              "   'prefcode': '26',\n",
              "   'zipcode': '6068001'}],\n",
              " 'status': 200}"
            ]
          },
          "metadata": {},
          "execution_count": 33
        }
      ]
    },
    {
      "cell_type": "markdown",
      "metadata": {
        "id": "4ia0vBD4sOuk"
      },
      "source": [
        "# 学習15 アルゴリズムの比較"
      ]
    },
    {
      "cell_type": "markdown",
      "metadata": {
        "id": "0qf3-tb-st2S"
      },
      "source": [
        "## 線型探索\n",
        "\n",
        "リストを先頭から順に比較しながら探索値に一致するデータを探し出す探索方法\n",
        "\n",
        "「アルゴリズムビジュアル大事典」より\n",
        "https://yutaka-watanobe.github.io/star-aida/1.0/algorithms/linear_search/anim.html"
      ]
    },
    {
      "cell_type": "code",
      "metadata": {
        "colab": {
          "base_uri": "https://localhost:8080/"
        },
        "id": "OZK8DFvbr8dc",
        "outputId": "c5329b30-be81-46ae-c015-f8db7f1e3c1d"
      },
      "source": [
        "def linsearch(a,p):\n",
        "  for i in range(0,len(a),1):\n",
        "    if a[i]==p:\n",
        "      print(\"見つかりました\")\n",
        "      break\n",
        "\n",
        "a = [61,15,82,77,21,32,53]\n",
        "p = 82\n",
        "linsearch(a,p)"
      ],
      "execution_count": 34,
      "outputs": [
        {
          "output_type": "stream",
          "name": "stdout",
          "text": [
            "見つかりました\n"
          ]
        }
      ]
    },
    {
      "cell_type": "code",
      "metadata": {
        "colab": {
          "base_uri": "https://localhost:8080/"
        },
        "id": "mAd4Ue1HuOah",
        "outputId": "091bbe4c-6de4-42e3-cb5c-9df09bc41373"
      },
      "source": [
        "def linsearch(a,p):\n",
        "  for i in range(0,len(a),1):\n",
        "    if a[i]==p:\n",
        "      print(f\"位置{i}で見つかりました\")\n",
        "      break\n",
        "\n",
        "a = [61,15,82,77,21,32,53]\n",
        "p = 82\n",
        "linsearch(a,p)"
      ],
      "execution_count": 35,
      "outputs": [
        {
          "output_type": "stream",
          "name": "stdout",
          "text": [
            "位置2で見つかりました\n"
          ]
        }
      ]
    },
    {
      "cell_type": "code",
      "metadata": {
        "colab": {
          "base_uri": "https://localhost:8080/"
        },
        "id": "X789ldxmuqsl",
        "outputId": "3f58f030-8793-480a-9792-e1c576bc9199"
      },
      "source": [
        "def linsearch(a,p):\n",
        "  for i, e in zip(range(len(a)), a):\n",
        "    if e==p:\n",
        "      print(f\"位置{i}で見つかりました\")\n",
        "      break\n",
        "\n",
        "a = [61,15,82,77,21,32,53]\n",
        "p = 61\n",
        "linsearch(a,p)"
      ],
      "execution_count": 36,
      "outputs": [
        {
          "output_type": "stream",
          "name": "stdout",
          "text": [
            "位置0で見つかりました\n"
          ]
        }
      ]
    },
    {
      "cell_type": "markdown",
      "metadata": {
        "id": "9MdXtAU9tEpc"
      },
      "source": [
        "## 二分探索\n",
        "\n",
        "リストの中から探索範囲を半分ずつ狭めながら目的のデータを探し出す探索方法\n",
        "\n",
        "「アルゴリズムビジュアル大事典」より\n",
        "https://yutaka-watanobe.github.io/star-aida/1.0/algorithms/binary_search/anim.html"
      ]
    },
    {
      "cell_type": "code",
      "metadata": {
        "colab": {
          "base_uri": "https://localhost:8080/"
        },
        "id": "7G-prqohtEy8",
        "outputId": "e095c637-ef02-4ea7-9ebe-5d876ea52653"
      },
      "source": [
        "def binsearch(a,p):\n",
        "  i = 0\n",
        "  j = len(a)-1\n",
        "  while i<=j:\n",
        "    m = int((i+j)/2)\n",
        "    if a[m]==p:\n",
        "      print(f\"位置{m}で見つかりました\")\n",
        "      break\n",
        "    else:\n",
        "      if a[m]>p:\n",
        "        j=m-1\n",
        "      else:\n",
        "        i=m+1\n",
        "\n",
        "a = [25,33,43,51,66,71,88]\n",
        "p = 43\n",
        "binsearch(a,p)"
      ],
      "execution_count": 37,
      "outputs": [
        {
          "output_type": "stream",
          "name": "stdout",
          "text": [
            "位置2で見つかりました\n"
          ]
        }
      ]
    },
    {
      "cell_type": "markdown",
      "metadata": {
        "id": "rBx7Cm42tE6K"
      },
      "source": [
        "## 選択ソート\n",
        "\n",
        "リスト内のデータから最小値を探索し，最小値から順に取り出すことで並べ替えを実現する\n",
        "\n",
        "「アルゴリズムビジュアル大事典」より https://yutaka-watanobe.github.io/star-aida/1.0/algorithms/selection_sort/anim.html"
      ]
    },
    {
      "cell_type": "markdown",
      "source": [
        "資料の図表11  これはバブルソート\n",
        "\n",
        "「アルゴリズムビジュアル大事典」より https://yutaka-watanobe.github.io/star-aida/1.0/algorithms/bubble_sort/anim.html"
      ],
      "metadata": {
        "id": "TERaWnX3pDzj"
      }
    },
    {
      "cell_type": "code",
      "metadata": {
        "colab": {
          "base_uri": "https://localhost:8080/"
        },
        "id": "JznGtslLtFFs",
        "outputId": "ffc996ec-f614-433e-ccdf-681f0354dae1"
      },
      "source": [
        "def selectionsort(a):\n",
        "  for i in range(0,len(a),1):\n",
        "    for j in range(i+1,len(a),1):\n",
        "      if a[j]<a[i]:\n",
        "        temp = a[i]\n",
        "        a[i] = a[j]\n",
        "        a[j] = temp\n",
        "\n",
        "a = [7,22,11,34,17,52,26,13,40,20,10,5,16,8,4,2,1]\n",
        "print(\" ソート前\",a)\n",
        "selectionsort(a)\n",
        "print(\" ソート後\",a)"
      ],
      "execution_count": 38,
      "outputs": [
        {
          "output_type": "stream",
          "name": "stdout",
          "text": [
            " ソート前 [7, 22, 11, 34, 17, 52, 26, 13, 40, 20, 10, 5, 16, 8, 4, 2, 1]\n",
            " ソート後 [1, 2, 4, 5, 7, 8, 10, 11, 13, 16, 17, 20, 22, 26, 34, 40, 52]\n"
          ]
        }
      ]
    },
    {
      "cell_type": "markdown",
      "source": [
        "こちらが選択ソート"
      ],
      "metadata": {
        "id": "ZWtF2kqSpKEb"
      }
    },
    {
      "cell_type": "code",
      "metadata": {
        "colab": {
          "base_uri": "https://localhost:8080/"
        },
        "id": "WmyHTf57wmB9",
        "outputId": "b7ef44c8-cca2-41f7-b1f6-7f3e108a8758"
      },
      "source": [
        "def selectionsort(a):\n",
        "  for i in range(0,len(a)-1):\n",
        "    m = i\n",
        "    for j in range(i+1,len(a)):\n",
        "      if a[j]<a[m]:\n",
        "        m = j\n",
        "    a[i], a[m] = a[m], a[i]\n",
        "\n",
        "a = [7,22,11,34,17,52,26,13,40,20,10,5,16,8,4,2,1]\n",
        "print(\" ソート前\",a)\n",
        "selectionsort(a)\n",
        "print(\" ソート後\",a)"
      ],
      "execution_count": 39,
      "outputs": [
        {
          "output_type": "stream",
          "name": "stdout",
          "text": [
            " ソート前 [7, 22, 11, 34, 17, 52, 26, 13, 40, 20, 10, 5, 16, 8, 4, 2, 1]\n",
            " ソート後 [1, 2, 4, 5, 7, 8, 10, 11, 13, 16, 17, 20, 22, 26, 34, 40, 52]\n"
          ]
        }
      ]
    },
    {
      "cell_type": "markdown",
      "metadata": {
        "id": "1_3c7iwrtFOR"
      },
      "source": [
        "## クイックソート\n",
        "\n",
        "リスト内の一つのデータを軸として，大小２つに分割した後，分割したデータに対して同じ処理を再度行うことにより並べ替えを実現する\n",
        "\n",
        "「アルゴリズムビジュアル大事典」より https://yutaka-watanobe.github.io/star-aida/1.0/algorithms/quick_sort/anim.html"
      ]
    },
    {
      "cell_type": "code",
      "metadata": {
        "colab": {
          "base_uri": "https://localhost:8080/"
        },
        "id": "C_99Qkf1tFXS",
        "outputId": "efe6fcf9-a7ae-45ed-8354-5c565812c30b"
      },
      "source": [
        "# バグあり\n",
        "def quicksort(a,start,end):\n",
        "    m = int((start+end)/2)\n",
        "    i = start\n",
        "    j = end\n",
        "    while(i<j):\n",
        "        while a[i] < a[m]:\n",
        "            i = i+1\n",
        "        while a[j] > a[m]:\n",
        "            j = j-1\n",
        "        if i>=j:\n",
        "            break\n",
        "        temp = a[i]\n",
        "        a[i] = a[j]\n",
        "        a[j] = temp\n",
        "        if i==m:\n",
        "            m = j\n",
        "        elif j==m:\n",
        "            m = i\n",
        "        i = i+1\n",
        "        j = j-1\n",
        "    if start < i-1:\n",
        "        quicksort(a,start,m-1)\n",
        "    if end > j+1:\n",
        "        quicksort(a,m+1,end)\n",
        "\n",
        "#a = [7,22,11,34,17,52,26,13,40,20,10,5,16,8,4,2,1]\n",
        "a = [7,22,11,34,17,52,26,13]  #途中で切った\n",
        "print(\"ソート前\",a)\n",
        "quicksort(a,0,len(a)-1)\n",
        "print(\"ソート後\",a)"
      ],
      "execution_count": 40,
      "outputs": [
        {
          "output_type": "stream",
          "name": "stdout",
          "text": [
            "ソート前 [7, 22, 11, 34, 17, 52, 26, 13]\n",
            "ソート後 [7, 13, 11, 17, 22, 26, 52, 34]\n"
          ]
        }
      ]
    },
    {
      "cell_type": "markdown",
      "metadata": {
        "id": "HshOBS5MFjpB"
      },
      "source": [
        "バグの説明\n",
        "https://note.com/evjunior/n/n25c3e831d110"
      ]
    },
    {
      "cell_type": "code",
      "metadata": {
        "colab": {
          "base_uri": "https://localhost:8080/"
        },
        "id": "AIcjB6qH11TY",
        "outputId": "70e944be-82cb-484b-ca49-28129b31fca1"
      },
      "source": [
        "# 修正後\n",
        "def quicksort(a, start, end):\n",
        "   m = (start+end) // 2 # 切り捨ては//演算子でよいのでは\n",
        "   i = start\n",
        "   j = end\n",
        "   key = a[m] #分割の基準の値をとっておく\n",
        "   while i <= j:  # 等号を入れる\n",
        "       while a[i] < key: # 基準の値と比較\n",
        "           i = i + 1\n",
        "       while a[j] > key: # 基準の値と比較\n",
        "           j = j - 1\n",
        "       if i >= j:\n",
        "           break\n",
        "       temp = a[i]\n",
        "       a[i] = a[j]\n",
        "       a[j] = temp\n",
        "       i = i + 1\n",
        "       j = j - 1   \n",
        "   if start < i - 1:\n",
        "       quicksort(a, start, i - 1)\n",
        "   if end > j + 1:\n",
        "       quicksort(a, j + 1, end)\n",
        "       \n",
        "a = [7, 22, 11, 34, 17, 52, 26, 13]\n",
        "print(\" ソート前 \", a)\n",
        "quicksort(a, 0, len(a)-1)\n",
        "print(\" ソート後 \", a)"
      ],
      "execution_count": 41,
      "outputs": [
        {
          "output_type": "stream",
          "name": "stdout",
          "text": [
            " ソート前  [7, 22, 11, 34, 17, 52, 26, 13]\n",
            " ソート後  [7, 11, 13, 17, 22, 26, 34, 52]\n"
          ]
        }
      ]
    },
    {
      "cell_type": "markdown",
      "metadata": {
        "id": "UQhmJV4osV4h"
      },
      "source": [
        "#学習16 確定モデルと確率モデル"
      ]
    },
    {
      "cell_type": "markdown",
      "metadata": {
        "id": "Zdx8SMAVALL4"
      },
      "source": [
        "## 確定モデル\n",
        "\n",
        "不規則な現象を含まず、方程式などで表せるモデル\n"
      ]
    },
    {
      "cell_type": "code",
      "metadata": {
        "colab": {
          "base_uri": "https://localhost:8080/"
        },
        "id": "MuIeFfbksWEl",
        "outputId": "159e5469-074f-43d8-b58f-777c2dd1b534"
      },
      "source": [
        "yokin = 100000 # 預金\n",
        "riritsu = 0.05 # 利率\n",
        "for i in range(10): #i の値を0 から9 まで10 回繰り返す\n",
        "  risoku = yokin*riritsu # その年の利息\n",
        "  yokin = yokin + risoku # 預金に利息を加える\n",
        "  print(i+1,\" 年目:\",yokin) # 画面に表示"
      ],
      "execution_count": 42,
      "outputs": [
        {
          "output_type": "stream",
          "name": "stdout",
          "text": [
            "1  年目: 105000.0\n",
            "2  年目: 110250.0\n",
            "3  年目: 115762.5\n",
            "4  年目: 121550.625\n",
            "5  年目: 127628.15625\n",
            "6  年目: 134009.5640625\n",
            "7  年目: 140710.042265625\n",
            "8  年目: 147745.54437890626\n",
            "9  年目: 155132.82159785158\n",
            "10  年目: 162889.46267774416\n"
          ]
        }
      ]
    },
    {
      "cell_type": "code",
      "metadata": {
        "colab": {
          "base_uri": "https://localhost:8080/",
          "height": 295
        },
        "id": "beq-j75v_kPB",
        "outputId": "66b22f73-be20-402a-95aa-9a098a3e844f"
      },
      "source": [
        "import matplotlib.pyplot as plt # プロットオブジェクトをインポート\n",
        "riritsu = 0.05 # 利率\n",
        "yokin = [100000] # 預金配列の最初の値は10 万\n",
        "for i in range(10): #i の値を0 〜 9 まで、10 回繰り返す\n",
        "  risoku = int(yokin[i]*riritsu) # 利息は現在の預金額× 利率( 整数化)\n",
        "  yokin.append(yokin[i]+risoku) # 配列に計算結果を追加\n",
        "plt.title(\"FUKURI KEISAN\") # グラフのタイトル\n",
        "plt.xlabel(\"Year\") #X 軸のラベル\n",
        "plt.ylabel(\"Yokin[YEN]\") #Y 軸のラベル\n",
        "plt.plot(yokin, marker=\"o\") # グラフをプロット\n",
        "plt.show() # プロットオブジェクトを表示"
      ],
      "execution_count": 43,
      "outputs": [
        {
          "output_type": "display_data",
          "data": {
            "image/png": "[encoded data removed]",
            "text/plain": [
              "<Figure size 432x288 with 1 Axes>"
            ]
          },
          "metadata": {
            "needs_background": "light"
          }
        }
      ]
    },
    {
      "cell_type": "markdown",
      "metadata": {
        "id": "qdP4SAytAN8i"
      },
      "source": [
        "##確率モデル\n",
        "\n",
        "不規則な現象を含んだモデル\n"
      ]
    },
    {
      "cell_type": "code",
      "metadata": {
        "colab": {
          "base_uri": "https://localhost:8080/"
        },
        "id": "t4fkWDEa_kwG",
        "outputId": "1f53e02f-0097-4d83-9580-1ab3904a7b82"
      },
      "source": [
        "import numpy.random as rd # 乱数を発生させる関数の呼び出し\n",
        "ransuu = rd.rand() #0 〜 1 の乱数を1 個生成\n",
        "print(\" 乱数\", ransuu) # 乱数の値を表示"
      ],
      "execution_count": 44,
      "outputs": [
        {
          "output_type": "stream",
          "name": "stdout",
          "text": [
            " 乱数 0.9354919005334824\n"
          ]
        }
      ]
    },
    {
      "cell_type": "code",
      "metadata": {
        "colab": {
          "base_uri": "https://localhost:8080/"
        },
        "id": "JFM8cAVd_kzI",
        "outputId": "dc5e1b08-82f2-4ee9-ba15-2c890181eb08"
      },
      "source": [
        "import numpy as np # 整数をカウントするための関数呼び出し\n",
        "import numpy.random as rd # 乱数を発生させる関数の呼び出し\n",
        "saikoro = rd.randint(1, 6+1, 100) # サイコロを100 回振る\n",
        "print(saikoro) # 乱数の値を表示\n",
        "deme = [ ] # 出目の数を数える配列\n",
        "for i in range(6):\n",
        "  deme.append(np.count_nonzero(saikoro==i+1)) # 出現回数を数えて配列に追加\n",
        "print(\" 出現数:\",deme) # 乱数の値を表示"
      ],
      "execution_count": 45,
      "outputs": [
        {
          "output_type": "stream",
          "name": "stdout",
          "text": [
            "[5 5 6 4 6 5 1 3 6 6 4 4 2 6 1 4 6 2 5 1 5 4 6 3 1 6 3 6 4 1 4 1 6 6 1 2 6\n",
            " 5 3 2 6 2 5 3 1 2 4 2 1 5 6 1 2 5 1 6 2 3 4 6 6 1 1 6 1 1 5 6 6 1 3 1 1 4\n",
            " 5 4 4 2 1 4 6 6 2 6 2 4 6 6 6 4 1 3 2 3 3 6 3 2 1 4]\n",
            " 出現数: [21, 14, 11, 16, 11, 27]\n"
          ]
        }
      ]
    },
    {
      "cell_type": "code",
      "metadata": {
        "colab": {
          "base_uri": "https://localhost:8080/",
          "height": 295
        },
        "id": "yus4mq9XAiJR",
        "outputId": "965c1ec9-2676-4f7c-c613-099cc166efde"
      },
      "source": [
        "import numpy as np # 整数をカウントするための関数呼び出し\n",
        "import numpy.random as rd # 乱数を発生させる関数の呼び出し\n",
        "import matplotlib.pyplot as plt # グラフプロットの呼び出し\n",
        "saikoro = rd.randint(1, 6+1, 100) # サイコロを100 回振る\n",
        "deme = [ ] # 出目の数を数える配列\n",
        "for i in range(6):\n",
        "  deme.append(np.count_nonzero(saikoro==i+1)) # 数を数えて配列に追加\n",
        "left = [1, 2, 3, 4, 5, 6] # グラフの左方向の値指定用\n",
        "plt.title(\"SAIKORO SIMULATION\") # グラフのタイトル\n",
        "plt.xlabel(\"ME\") #X 軸のラベル\n",
        "plt.ylabel(\"KAISUU\") #Y 軸のラベル\n",
        "plt.bar(left, deme, align=\"center\") # グラフをプロット\n",
        "plt.show() # プロットオブジェクトを表示"
      ],
      "execution_count": 46,
      "outputs": [
        {
          "output_type": "display_data",
          "data": {
            "image/png": "[encoded data removed]",
            "text/plain": [
              "<Figure size 432x288 with 1 Axes>"
            ]
          },
          "metadata": {
            "needs_background": "light"
          }
        }
      ]
    },
    {
      "cell_type": "code",
      "metadata": {
        "colab": {
          "base_uri": "https://localhost:8080/"
        },
        "id": "VzvhpdK7BgJv",
        "outputId": "639717f1-31e0-4ca2-e964-eac8755c0a46"
      },
      "source": [
        "saikoro==5"
      ],
      "execution_count": 47,
      "outputs": [
        {
          "output_type": "execute_result",
          "data": {
            "text/plain": [
              "array([False, False, False,  True, False, False, False, False, False,\n",
              "       False, False, False, False, False, False, False, False, False,\n",
              "       False, False, False, False, False, False, False, False,  True,\n",
              "       False, False, False,  True, False, False,  True, False, False,\n",
              "       False, False, False, False, False, False, False, False, False,\n",
              "       False, False, False, False, False, False, False,  True,  True,\n",
              "        True, False, False,  True, False, False, False, False, False,\n",
              "       False,  True, False, False, False, False, False, False,  True,\n",
              "       False,  True, False, False, False, False, False, False, False,\n",
              "       False, False, False, False, False, False,  True, False,  True,\n",
              "       False, False, False, False, False, False, False, False, False,\n",
              "       False])"
            ]
          },
          "metadata": {},
          "execution_count": 47
        }
      ]
    },
    {
      "cell_type": "code",
      "metadata": {
        "colab": {
          "base_uri": "https://localhost:8080/"
        },
        "id": "V1btP-WfBmTh",
        "outputId": "decf23b5-bb45-4eec-e695-2f757ead31af"
      },
      "source": [
        "np.count_nonzero([False, False, True, True, False])"
      ],
      "execution_count": 48,
      "outputs": [
        {
          "output_type": "execute_result",
          "data": {
            "text/plain": [
              "2"
            ]
          },
          "metadata": {},
          "execution_count": 48
        }
      ]
    },
    {
      "cell_type": "markdown",
      "source": [
        "ライブラリを用いた例"
      ],
      "metadata": {
        "id": "86Y53TiwrrCR"
      }
    },
    {
      "cell_type": "code",
      "metadata": {
        "colab": {
          "base_uri": "https://localhost:8080/",
          "height": 305
        },
        "id": "NrZXA7tzCQWj",
        "outputId": "be52fa33-e209-40ed-e120-786bc733d95c"
      },
      "source": [
        "import numpy as np # 整数をカウントするための関数呼び出し\n",
        "import numpy.random as rd # 乱数を発生させる関数の呼び出し\n",
        "import matplotlib.pyplot as plt # グラフプロットの呼び出し\n",
        "import pandas as pd\n",
        "saikoro = rd.randint(1, 6+1, 100) # サイコロを100 回振る\n",
        "df = pd.DataFrame(saikoro)\n",
        "df.value_counts(sort=False).plot(kind=\"bar\")"
      ],
      "execution_count": 49,
      "outputs": [
        {
          "output_type": "execute_result",
          "data": {
            "text/plain": [
              "<matplotlib.axes._subplots.AxesSubplot at 0x7f62359b7590>"
            ]
          },
          "metadata": {},
          "execution_count": 49
        },
        {
          "output_type": "display_data",
          "data": {
            "image/png": "[encoded data removed]",
            "text/plain": [
              "<Figure size 432x288 with 1 Axes>"
            ]
          },
          "metadata": {
            "needs_background": "light"
          }
        }
      ]
    },
    {
      "cell_type": "markdown",
      "source": [
        "## モンテカルロ法\n",
        "\n",
        "対象のモデルに乱数を大量に生成して入力し，近似解を得るもの  \n",
        "例）円周率の計算\n"
      ],
      "metadata": {
        "id": "Ul5OIv7jryCH"
      }
    },
    {
      "cell_type": "code",
      "metadata": {
        "colab": {
          "base_uri": "https://localhost:8080/"
        },
        "id": "dBIE8JvDA3aD",
        "outputId": "a8663ea4-a1e6-4e4f-8fdd-719abdb19a93"
      },
      "source": [
        "import numpy.random as rd # 乱数を発生させる関数の呼び出し\n",
        "totalcount = 1000 # ランダムに打つ点の総数\n",
        "incount = 0 # 円に入った点の数\n",
        "for i in range(totalcount):\n",
        "  x = rd.random() #0-1 の範囲の値\n",
        "  y = rd.random() #0-1 の範囲の値\n",
        "  if x**2 + y**2 < 1.0: # 単位円の中に入ったら\n",
        "    incount += 1 # 入ったカウンターに１を加える\n",
        "print(\" 円周率:\", incount * 4.0 / totalcount) # 求まった円周率"
      ],
      "execution_count": 50,
      "outputs": [
        {
          "output_type": "stream",
          "name": "stdout",
          "text": [
            " 円周率: 3.148\n"
          ]
        }
      ]
    },
    {
      "cell_type": "code",
      "metadata": {
        "colab": {
          "base_uri": "https://localhost:8080/",
          "height": 299
        },
        "id": "DCtjTUS0A3g5",
        "outputId": "c50725cf-66e4-419f-da0b-fe644311bb9d"
      },
      "source": [
        "import numpy.random as rd # 乱数を発生させる関数の呼び出し\n",
        "import matplotlib.pyplot as plt # グラフプロットの呼び出し\n",
        "totalcount = 2000 # ランダムに打つ点の総数\n",
        "incount = 0 # 円に入った点の数\n",
        "for i in range(totalcount):\n",
        "  x = rd.random() #0-1 の範囲の値\n",
        "  y = rd.random() #0-1 の範囲の値\n",
        "  if x**2 + y**2 < 1.0: # 単位円の中に入ったら\n",
        "    incount += 1 # 入ったカウンターに１を加える\n",
        "    plt.scatter(x, y, c=\"red\") # 赤色でプロット\n",
        "  else:\n",
        "    plt.scatter(x, y, c=\"blue\") # 青色でプロット\n",
        "print(\" 円周率:\", incount * 4.0 / totalcount) # 求まった円周率\n",
        "plt.title(\"Monte Carlo method\") # グラフのタイトル\n",
        "plt.show()"
      ],
      "execution_count": 51,
      "outputs": [
        {
          "output_type": "stream",
          "name": "stdout",
          "text": [
            " 円周率: 3.168\n"
          ]
        },
        {
          "output_type": "display_data",
          "data": {
            "image/png": "[encoded data removed]",
            "text/plain": [
              "<Figure size 432x288 with 1 Axes>"
            ]
          },
          "metadata": {
            "needs_background": "light"
          }
        }
      ]
    },
    {
      "cell_type": "markdown",
      "metadata": {
        "id": "mQd8lfTbsWL7"
      },
      "source": [
        "#学習17 自然現象のモデル化とシミュレーション"
      ]
    },
    {
      "cell_type": "markdown",
      "metadata": {
        "id": "S50hPHm4HdIW"
      },
      "source": [
        "物体の放物運動のモデル化"
      ]
    },
    {
      "cell_type": "code",
      "metadata": {
        "colab": {
          "base_uri": "https://localhost:8080/",
          "height": 295
        },
        "id": "_342AyiJsWVm",
        "outputId": "a8f89987-8b4b-43ae-9489-3a8338952d03"
      },
      "source": [
        "import math as math # 数値計算ライブラリ\n",
        "import matplotlib.pyplot as plt # グラフ描画ライブラリ\n",
        "dt = 0.01 # 微小時間( 時間間隔)\n",
        "v0 = 30 # 初速度\n",
        "g = 9.8 # 重力加速度\n",
        "x = [0] # 水平位置の初期値0\n",
        "y = [0] # 鉛直位置の初期値は0\n",
        "angle = 45.0 * math.pi / 180.0 # 投げ上げ角度\n",
        "vx = [v0*math.cos(angle)] # 水平方向の初速度\n",
        "vy = [v0*math.sin(angle)] # 鉛直方向の初速度\n",
        "for i in range(1000):\n",
        "  vx.append(vx[i]) # 微小時間後の水平方向の速度\n",
        "  vy.append(vy[i]-g*dt) # 微小時間後の鉛直方向の速度\n",
        "  x.append(x[i]+vx[i]*dt) # 微小時間後の水平位置\n",
        "  y.append(y[i]+(vy[i]+vy[i+1])/2.0*dt) # 微小時間後の鉛直位置\n",
        "  if y[i] < 0 : # もし鉛直位置が0 を下回ったら\n",
        "    break # ループ中断\n",
        "plt.plot(x,y) # 位置の配列をプロット\n",
        "plt.title(\"parabollic motion\") # グラフのタイトル\n",
        "plt.xlabel(\"distance\") #x 軸ラベル\n",
        "plt.ylabel(\"height\") #y 軸ラベル\n",
        "\n",
        "x = [0] # 水平位置の初期値0\n",
        "y = [0] # 鉛直位置の初期値は0\n",
        "angle = 80.0 * math.pi / 180.0 # 投げ上げ角度\n",
        "vx = [v0*math.cos(angle)] # 水平方向の初速度\n",
        "vy = [v0*math.sin(angle)] # 鉛直方向の初速度\n",
        "for i in range(1000):\n",
        "  vx.append(vx[i]) # 微小時間後の水平方向の速度\n",
        "  vy.append(vy[i]-g*dt) # 微小時間後の鉛直方向の速度\n",
        "  x.append(x[i]+vx[i]*dt) # 微小時間後の水平位置\n",
        "  y.append(y[i]+(vy[i]+vy[i+1])/2.0*dt) # 微小時間後の鉛直位置\n",
        "  if y[i] < 0 : # もし鉛直位置が0 を下回ったら\n",
        "    break # ループ中断\n",
        "plt.plot(x,y) # 位置の配列をプロット\n",
        "\n",
        "plt.show()"
      ],
      "execution_count": 52,
      "outputs": [
        {
          "output_type": "display_data",
          "data": {
            "image/png": "[encoded data removed]",
            "text/plain": [
              "<Figure size 432x288 with 1 Axes>"
            ]
          },
          "metadata": {
            "needs_background": "light"
          }
        }
      ]
    },
    {
      "cell_type": "markdown",
      "metadata": {
        "id": "rOtjkFgQsWdf"
      },
      "source": [
        "生命体の増加シミュレーション\n"
      ]
    },
    {
      "cell_type": "code",
      "metadata": {
        "colab": {
          "base_uri": "https://localhost:8080/",
          "height": 295
        },
        "id": "6pzNX-u4HoGN",
        "outputId": "ad3e3b06-bcfa-44eb-b155-a3f700e4ca3d"
      },
      "source": [
        "import matplotlib.pyplot as plt # グラフ描画ライブラリ\n",
        "zouka = 0.03 # 増加率\n",
        "capacity = 1000 # 環境収容数\n",
        "n = [10] # 最初の個体数\n",
        "for i in range(1000):\n",
        "  zoukasuu = n[i]*zouka # 増加数\n",
        "  gensyousuu = n[i]*(n[i]/capacity)*zouka # 減少数\n",
        "  n.append(n[i]+(zoukasuu - gensyousuu)) # 個体数\n",
        "plt.plot(n) # グラフにプロット\n",
        "plt.title(\"number of life\") # グラフのタイトル\n",
        "plt.xlabel(\"time\") #x 軸のラベル\n",
        "plt.ylabel(\"number\") #y 軸のラベル\n",
        "plt.show()"
      ],
      "execution_count": 53,
      "outputs": [
        {
          "output_type": "display_data",
          "data": {
            "image/png": "[encoded data removed]",
            "text/plain": [
              "<Figure size 432x288 with 1 Axes>"
            ]
          },
          "metadata": {
            "needs_background": "light"
          }
        }
      ]
    },
    {
      "cell_type": "markdown",
      "metadata": {
        "id": "5qXF76hSHxeY"
      },
      "source": [
        "ランダムウォークのシミュレーション"
      ]
    },
    {
      "cell_type": "code",
      "metadata": {
        "colab": {
          "base_uri": "https://localhost:8080/",
          "height": 281
        },
        "id": "0Mz3UG4OHveO",
        "outputId": "1801c7f7-81b9-4c74-fa39-c86aa4181b52"
      },
      "source": [
        "import matplotlib.pyplot as plt # グラフ描画ライブラリ\n",
        "import numpy.random as rd # 乱数のためのライブラリ\n",
        "x=[0] #X の初期値を0 にする\n",
        "y=[0] #Y の初期値を0 にする\n",
        "for i in range(1000):\n",
        "  x.append(x[i]+rd.random() - 0.5) #X 方向\n",
        "  y.append(y[i]+rd.random() - 0.5) #Y 方向\n",
        "trace = [x, y] #XY 平面状の物体の座標をtrace という名前の配列に代入\n",
        "plt.plot(*trace) # 配列要素のグラフ描画\n",
        "plt.axis(\"equal\") # グラフの縦横比を等しく\n",
        "plt.title(\"random walk\") # グラフのタイトルをつける\n",
        "plt.show()"
      ],
      "execution_count": 54,
      "outputs": [
        {
          "output_type": "display_data",
          "data": {
            "image/png": "[encoded data removed]",
            "text/plain": [
              "<Figure size 432x288 with 1 Axes>"
            ]
          },
          "metadata": {
            "needs_background": "light"
          }
        }
      ]
    },
    {
      "cell_type": "code",
      "metadata": {
        "colab": {
          "base_uri": "https://localhost:8080/",
          "height": 281
        },
        "id": "_QrTnXKyKtMc",
        "outputId": "3f0ec736-ae9f-412d-affe-0b06fca5f50c"
      },
      "source": [
        "import matplotlib.pyplot as plt # グラフ描画ライブラリ\n",
        "import numpy.random as rd # 乱数のためのライブラリ\n",
        "x=[0] #X の初期値を0 にする\n",
        "y=[0] #Y の初期値を0 にする\n",
        "for i in range(1000):\n",
        "  x.append(x[i]+rd.random() - 0.5) #X 方向\n",
        "  y.append(y[i]+rd.random() - 0.5) #Y 方向\n",
        "plt.plot(x, y) # そのまま引数にすればよい\n",
        "plt.axis(\"equal\") # グラフの縦横比を等しく\n",
        "plt.title(\"random walk\") # グラフのタイトルをつける\n",
        "plt.show()"
      ],
      "execution_count": 55,
      "outputs": [
        {
          "output_type": "display_data",
          "data": {
            "image/png": "[encoded data removed]",
            "text/plain": [
              "<Figure size 432x288 with 1 Axes>"
            ]
          },
          "metadata": {
            "needs_background": "light"
          }
        }
      ]
    },
    {
      "cell_type": "markdown",
      "source": [
        "# 演習問題"
      ],
      "metadata": {
        "id": "BX2i8eEwwQOv"
      }
    },
    {
      "cell_type": "markdown",
      "source": [
        "p.123 演習1 図表3のコードをaの中の最小値を表示するように変更"
      ],
      "metadata": {
        "id": "f86sOB7owQfl"
      }
    },
    {
      "cell_type": "code",
      "source": [
        ""
      ],
      "metadata": {
        "id": "wX6z6jIcwbj3"
      },
      "execution_count": 55,
      "outputs": []
    },
    {
      "cell_type": "markdown",
      "source": [
        "p.123 演習2 図表5においてaとrの値を表示"
      ],
      "metadata": {
        "id": "gYQsLNq2RY3r"
      }
    },
    {
      "cell_type": "code",
      "source": [
        ""
      ],
      "metadata": {
        "id": "CZ1u80bkxBq-"
      },
      "execution_count": 55,
      "outputs": []
    },
    {
      "cell_type": "markdown",
      "source": [
        "## 解答例"
      ],
      "metadata": {
        "id": "mzJUsR13wcVe"
      }
    },
    {
      "cell_type": "code",
      "source": [
        "#  演習1 \n",
        "a = [56,3,62,17,87,22,36,83,21,12] \n",
        "saisyo = a[0]\n",
        "for i in range(1,10,1):\n",
        "  if a[i] < saisyo:\n",
        "      saisyo = a[i]\n",
        "print(saisyo)"
      ],
      "metadata": {
        "colab": {
          "base_uri": "https://localhost:8080/"
        },
        "outputId": "4e73a5b9-b828-495e-e76e-4025e4fd6f9a",
        "id": "e5uPFiEcwQfm"
      },
      "execution_count": 56,
      "outputs": [
        {
          "output_type": "stream",
          "name": "stdout",
          "text": [
            "3\n"
          ]
        }
      ]
    },
    {
      "cell_type": "code",
      "source": [
        "# 演習2\n",
        "import random #random モジュールを読み込む\n",
        "a = 5\n",
        "r = random.randrange(10) #0 ～ 9 までの整数をランダムに発生\n",
        "print(f'a = {a},  r = {r}')\n",
        "if a == r:\n",
        "  print(\" 当たり\")\n",
        "elif a > r:\n",
        "  print(\"a の方が大きい\")\n",
        "elif a < r:\n",
        "  print(\"a の方が小さい\")"
      ],
      "metadata": {
        "colab": {
          "base_uri": "https://localhost:8080/"
        },
        "id": "KWYmwCTCwiVv",
        "outputId": "14051110-528b-4ee9-85e0-31213bd028d1"
      },
      "execution_count": 57,
      "outputs": [
        {
          "output_type": "stream",
          "name": "stdout",
          "text": [
            "a = 5,  r = 2\n",
            "a の方が大きい\n"
          ]
        }
      ]
    }
  ]
}