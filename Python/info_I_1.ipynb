{
  "nbformat": 4,
  "nbformat_minor": 0,
  "metadata": {
    "colab": {
      "name": "info_I_1.ipynb",
      "provenance": [],
      "collapsed_sections": []
    },
    "kernelspec": {
      "name": "python3",
      "display_name": "Python 3"
    },
    "language_info": {
      "name": "python"
    }
  },
  "cells": [
    {
      "cell_type": "markdown",
      "source": [
        "<a href=\"https://colab.research.google.com/github/MasahiroAraki/Informatics-I/blob/master/Python/info_I_1.ipynb\" target=\"_parent\"><img src=\"https://colab.research.google.com/assets/colab-badge.svg\" alt=\"Open In Colab\"/></a>"
      ],
      "metadata": {
        "id": "0pwpNOt_ral0"
      }
    },
    {
      "cell_type": "markdown",
      "metadata": {
        "id": "GFv0RLA9JXeH"
      },
      "source": [
        "# 学習11\n",
        "\n",
        "プログラミングで誤差を体験する"
      ]
    },
    {
      "cell_type": "code",
      "metadata": {
        "colab": {
          "base_uri": "https://localhost:8080/"
        },
        "id": "wno7RJsiJQog",
        "outputId": "b8f48082-06bd-499c-94a3-3bee616c15c3"
      },
      "source": [
        "import sys\n",
        "x = sys.float_info.max\n",
        "print(x)"
      ],
      "execution_count": null,
      "outputs": [
        {
          "output_type": "stream",
          "name": "stdout",
          "text": [
            "1.7976931348623157e+308\n"
          ]
        }
      ]
    },
    {
      "cell_type": "code",
      "metadata": {
        "colab": {
          "base_uri": "https://localhost:8080/"
        },
        "id": "9acf3XyNJjYy",
        "outputId": "59ddc1f4-10b4-468d-e287-01bd25324720"
      },
      "source": [
        "x= 1.797693134862315799999e+308\n",
        "print(x)"
      ],
      "execution_count": null,
      "outputs": [
        {
          "output_type": "stream",
          "name": "stdout",
          "text": [
            "1.7976931348623157e+308\n"
          ]
        }
      ]
    },
    {
      "cell_type": "code",
      "metadata": {
        "colab": {
          "base_uri": "https://localhost:8080/"
        },
        "id": "CkHb-FnYJpJL",
        "outputId": "a5aea3ec-0a11-42d2-ebb0-ec7da8c04726"
      },
      "source": [
        "x= 1.8e+308\n",
        "print(x)"
      ],
      "execution_count": null,
      "outputs": [
        {
          "output_type": "stream",
          "name": "stdout",
          "text": [
            "inf\n"
          ]
        }
      ]
    },
    {
      "cell_type": "code",
      "metadata": {
        "colab": {
          "base_uri": "https://localhost:8080/"
        },
        "id": "48tGvNLKJxTW",
        "outputId": "ae88b920-c923-4dc9-cf15-148f23c41026"
      },
      "source": [
        "28-27"
      ],
      "execution_count": null,
      "outputs": [
        {
          "output_type": "execute_result",
          "data": {
            "text/plain": [
              "1"
            ]
          },
          "metadata": {},
          "execution_count": 26
        }
      ]
    },
    {
      "cell_type": "code",
      "metadata": {
        "id": "lpSSBvcEJ67f",
        "outputId": "452b3a73-7030-433d-a6d8-834bad615d4b",
        "colab": {
          "base_uri": "https://localhost:8080/"
        }
      },
      "source": [
        "0.28-0.27"
      ],
      "execution_count": null,
      "outputs": [
        {
          "output_type": "execute_result",
          "data": {
            "text/plain": [
              "0.010000000000000009"
            ]
          },
          "metadata": {},
          "execution_count": 27
        }
      ]
    },
    {
      "cell_type": "markdown",
      "source": [
        "# 学習12 外部装置との接続\n",
        "\n",
        "このセクションのプログラムは micro:bit に転送して動かすもので、 Google Colab では動きません。\n",
        "\n",
        "PCにmicro:bitを接続して、Chromeで[python.microbit.org](https://python.microbit.org/v/2) を開いてコードを転送します。"
      ],
      "metadata": {
        "id": "zhLlRnW47Ar6"
      }
    },
    {
      "cell_type": "markdown",
      "source": [
        "### 順次"
      ],
      "metadata": {
        "id": "6t0TKGWP8Ol4"
      }
    },
    {
      "cell_type": "code",
      "source": [
        "from microbit import *\n",
        "\n",
        "maru = Image(\"09990:\" \n",
        "  \"90009:\" \n",
        "  \"90009:\" \n",
        "  \"90009:\"\n",
        "  \"09990:\")\n",
        "display.show(maru) \n",
        "sleep(1000) \n",
        "display.clear()"
      ],
      "metadata": {
        "id": "vlYUfjjB7Q9i"
      },
      "execution_count": null,
      "outputs": []
    },
    {
      "cell_type": "markdown",
      "source": [
        "## 分岐"
      ],
      "metadata": {
        "id": "OiwcfRa58RSQ"
      }
    },
    {
      "cell_type": "code",
      "source": [
        "from microbit import *\n",
        "\n",
        "while True:\n",
        "  reading = accelerometer.get_x() # 加速度センサの x 軸の傾きを読む\n",
        "  if reading > 100: # x 軸の傾きが100 より大きいなら\n",
        "    display.show(\"R\") # LEDに「R」を表示\n",
        "  else: # そうでなければ\n",
        "    display.show(\"-\")"
      ],
      "metadata": {
        "id": "Zl9qcCe78R0A"
      },
      "execution_count": null,
      "outputs": []
    },
    {
      "cell_type": "markdown",
      "source": [
        "### 反復"
      ],
      "metadata": {
        "id": "rR3Wvey08R_g"
      }
    },
    {
      "cell_type": "code",
      "source": [
        "from microbit import *\n",
        "\n",
        "for i in range(10): #i=0,1,…9 とカウントを進めながら以下の処理を繰り返し行う\n",
        "  display.show(i) #LED にi の値を表示\n",
        "  sleep(1000) # １秒停止\n",
        "  display.clear() #LED を消す\n",
        "  sleep(1000)"
      ],
      "metadata": {
        "id": "aVBPvRz38NEg"
      },
      "execution_count": null,
      "outputs": []
    },
    {
      "cell_type": "markdown",
      "metadata": {
        "id": "RJ9Z9rw2Dwpu"
      },
      "source": [
        "# 学習13 基本的プログラム"
      ]
    },
    {
      "cell_type": "markdown",
      "source": [
        "## 順次の例\n",
        "\n",
        "図表7"
      ],
      "metadata": {
        "id": "XfYlPnyBz-VZ"
      }
    },
    {
      "cell_type": "code",
      "source": [
        "print('おはよう')\n",
        "print('こんにちは')\n",
        "print('おやすみ')"
      ],
      "metadata": {
        "colab": {
          "base_uri": "https://localhost:8080/"
        },
        "id": "1qyRKQbv0CeB",
        "outputId": "8b449997-87b5-46e7-da1e-07c03d3670c2"
      },
      "execution_count": null,
      "outputs": [
        {
          "output_type": "stream",
          "name": "stdout",
          "text": [
            "おはよう\n",
            "こんにちは\n",
            "おやすみ\n"
          ]
        }
      ]
    },
    {
      "cell_type": "markdown",
      "source": [
        "## 分岐の例\n",
        "\n",
        "図表10\n",
        "\n",
        "ポイント：条件判定の後で複数の文を実行したい場合は、インデント（行冒頭の空白）を合わせて複数文を記述する。"
      ],
      "metadata": {
        "id": "nDpGyFA20NSA"
      }
    },
    {
      "cell_type": "code",
      "source": [
        "x = 80\n",
        "if x > 60:\n",
        "  print('合格')\n",
        "else:\n",
        "  print('不合格')  "
      ],
      "metadata": {
        "colab": {
          "base_uri": "https://localhost:8080/"
        },
        "id": "dffcY_NT0NdA",
        "outputId": "e07f008d-f17a-4544-8ef0-dbe6b6b4aee3"
      },
      "execution_count": null,
      "outputs": [
        {
          "output_type": "stream",
          "name": "stdout",
          "text": [
            "合格\n"
          ]
        }
      ]
    },
    {
      "cell_type": "markdown",
      "metadata": {
        "id": "avQ_qX_QD-1R"
      },
      "source": [
        "## 反復の例\n",
        "\n",
        "図表13\n",
        "\n",
        "ポイント：ループ内で複数の文を実行したい場合は、インデントを合わせて複数文を記述する。"
      ]
    },
    {
      "cell_type": "code",
      "source": [
        "x = 0\n",
        "print('x = ', x)\n",
        "for i in range(1, 6, 1):\n",
        "  x = x + 10\n",
        "  print('x = ', x)"
      ],
      "metadata": {
        "colab": {
          "base_uri": "https://localhost:8080/"
        },
        "id": "iDipIqVG0k4k",
        "outputId": "aec6017c-7646-4075-d968-7f90c62eb6df"
      },
      "execution_count": null,
      "outputs": [
        {
          "output_type": "stream",
          "name": "stdout",
          "text": [
            "x =  0\n",
            "x =  10\n",
            "x =  20\n",
            "x =  30\n",
            "x =  40\n",
            "x =  50\n"
          ]
        }
      ]
    },
    {
      "cell_type": "markdown",
      "source": [
        "お勧めの書き方（図表11, 12ともほぼ整合している）\n",
        "\n",
        "\n",
        "*  print関数で文字列と変数値を混在させる場合はf文字列を用いる\n",
        "*  ループ内でループ変数を使用しない場合は、必要のない値を示すアンダースコアを用いる\n",
        "*  変数への値の足し込みは増分演算子を用いる\n"
      ],
      "metadata": {
        "id": "q3Bpndjc0lbw"
      }
    },
    {
      "cell_type": "code",
      "metadata": {
        "colab": {
          "base_uri": "https://localhost:8080/"
        },
        "id": "W_pmwmzsDpoC",
        "outputId": "008cd02e-b235-480d-8957-83e328ecf41f"
      },
      "source": [
        "x = 0\n",
        "print(f'x = {x}')\n",
        "for _ in range(5):\n",
        "  x += 10\n",
        "  print(f'x = {x}')"
      ],
      "execution_count": null,
      "outputs": [
        {
          "output_type": "stream",
          "name": "stdout",
          "text": [
            "x = 0\n",
            "x = 10\n",
            "x = 20\n",
            "x = 30\n",
            "x = 40\n",
            "x = 50\n"
          ]
        }
      ]
    },
    {
      "cell_type": "markdown",
      "source": [
        "## 分岐と反復を組み合わせた例"
      ],
      "metadata": {
        "id": "cqJmThuJ2BUv"
      }
    },
    {
      "cell_type": "code",
      "source": [
        "x = 0\n",
        "print('x = ', x)\n",
        "for i in range(1, 6, 1):\n",
        "  x = x + 10\n",
        "  if i%2 == 1:\n",
        "    print('x = ', x)"
      ],
      "metadata": {
        "colab": {
          "base_uri": "https://localhost:8080/"
        },
        "id": "oQGCzUEv2Bk-",
        "outputId": "30efbef0-5084-487c-d6fb-9d6fa3cd11f7"
      },
      "execution_count": null,
      "outputs": [
        {
          "output_type": "stream",
          "name": "stdout",
          "text": [
            "x =  0\n",
            "x =  10\n",
            "x =  30\n",
            "x =  50\n"
          ]
        }
      ]
    }
  ]
}