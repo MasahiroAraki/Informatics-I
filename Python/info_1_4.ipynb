{
  "nbformat": 4,
  "nbformat_minor": 0,
  "metadata": {
    "colab": {
      "name": "info_1_4.ipynb",
      "provenance": [],
      "collapsed_sections": []
    },
    "kernelspec": {
      "name": "python3",
      "display_name": "Python 3"
    },
    "language_info": {
      "name": "python"
    }
  },
  "cells": [
    {
      "cell_type": "markdown",
      "source": [
        "# 学習21\n",
        "## (4) キー・バリュー形式のデータの処理・蓄積"
      ],
      "metadata": {
        "id": "VwAhAjpXFjsY"
      }
    },
    {
      "cell_type": "code",
      "source": [
        "# 初めからmembers に登録する場合\n",
        "members = [ { \"name\" : \"A田\",\n",
        "  \"homephone\" : \"0**-***-1111\",\n",
        "  \"mobilemail\" : \"ata@***.ne.jp\"\n",
        "} ,\n",
        "{ \"name\" : \"B川\",\n",
        "  \"mobilephone\" : \"0**-***-2222\"\n",
        "}\n",
        "]\n",
        "\n",
        "# 後からmembers に追加する場合\n",
        "members.append( { \"name\" : \"C山\",\n",
        "  \"mobilephone\" : \"090-****-3333\",\n",
        "  \"email\" : \"cyama@***.com\"\n",
        "})\n",
        "\n",
        "# すべてのデータを表示する\n",
        "for member in members:\n",
        "  for key , value in member.items():\n",
        "    print( key + ' : ' + value )\n",
        "  print()"
      ],
      "metadata": {
        "colab": {
          "base_uri": "https://localhost:8080/"
        },
        "id": "9qHObQbjF0iu",
        "outputId": "26dc68fc-26e3-460d-8513-2a20dedcd172"
      },
      "execution_count": null,
      "outputs": [
        {
          "output_type": "stream",
          "name": "stdout",
          "text": [
            "name : A田\n",
            "homephone : 0**-***-1111\n",
            "mobilemail : ata@***.ne.jp\n",
            "\n",
            "name : B川\n",
            "mobilephone : 0**-***-2222\n",
            "\n",
            "name : C山\n",
            "mobilephone : 090-****-3333\n",
            "email : cyama@***.com\n",
            "\n"
          ]
        }
      ]
    },
    {
      "cell_type": "markdown",
      "source": [
        "## (5) キー・バリュー形式のデータを用いた問題発見"
      ],
      "metadata": {
        "id": "Xmcmg6TNGhRg"
      }
    },
    {
      "cell_type": "markdown",
      "source": [
        "友人のリストを辞書型で定義"
      ],
      "metadata": {
        "id": "5KbxZuR8IB9_"
      }
    },
    {
      "cell_type": "code",
      "execution_count": null,
      "metadata": {
        "id": "q32BTLs2FbNP"
      },
      "outputs": [],
      "source": [
        "a = {\"ids\":[\"b\", \"c\", \"d\", \"f\"]}\n",
        "b = {\"ids\":[\"a\", \"c\", \"d\", \"e\", \"g\"]}\n",
        "c = {\"ids\":[\"a\", \"b\", \"d\", \"e\", \"h\"]}"
      ]
    },
    {
      "cell_type": "markdown",
      "source": [
        "bとcの共通の友人"
      ],
      "metadata": {
        "id": "N_Zof0bIH-bQ"
      }
    },
    {
      "cell_type": "code",
      "source": [
        "common_friends = [f for f in b['ids'] if f in c['ids']]\n",
        "common_friends"
      ],
      "metadata": {
        "colab": {
          "base_uri": "https://localhost:8080/"
        },
        "id": "pa3qdHBnGoOE",
        "outputId": "9d47f43c-dc59-4961-f243-781a519f3db6"
      },
      "execution_count": null,
      "outputs": [
        {
          "output_type": "execute_result",
          "data": {
            "text/plain": [
              "['a', 'd', 'e']"
            ]
          },
          "metadata": {},
          "execution_count": 18
        }
      ]
    },
    {
      "cell_type": "markdown",
      "source": [
        "自分自身と既に友人になっている人は除く"
      ],
      "metadata": {
        "id": "yaZATGd5JD8W"
      }
    },
    {
      "cell_type": "code",
      "source": [
        "candidates = [c for c in common_friends if not(c in a['ids'])]\n",
        "candidates.remove('a')\n",
        "candidates"
      ],
      "metadata": {
        "colab": {
          "base_uri": "https://localhost:8080/"
        },
        "id": "xhsK2mC3H225",
        "outputId": "bdaa81a1-ef6d-4ce7-f58e-39736fe8f9e9"
      },
      "execution_count": null,
      "outputs": [
        {
          "output_type": "execute_result",
          "data": {
            "text/plain": [
              "['e']"
            ]
          },
          "metadata": {},
          "execution_count": 21
        }
      ]
    }
  ]
}